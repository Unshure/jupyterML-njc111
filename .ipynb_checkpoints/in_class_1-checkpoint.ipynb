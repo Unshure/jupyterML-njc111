{
 "cells": [
  {
   "cell_type": "code",
   "execution_count": 430,
   "metadata": {},
   "outputs": [],
   "source": [
    "import numpy as np\n",
    "from sklearn.datasets import load_boston\n",
    "\n",
    "data, target = load_boston(return_X_y = True)\n",
    "\n",
    "data = np.column_stack((data, np.ones((506,1))))\n",
    "target = np.array([target]).T"
   ]
  },
  {
   "cell_type": "code",
   "execution_count": 431,
   "metadata": {},
   "outputs": [],
   "source": [
    "class ls_regression:\n",
    "    def __init__(self):\n",
    "        self.data = None\n",
    "        self.target = None\n",
    "        self.weights = np.zeros((1,data.shape[0])).T\n",
    "        \n",
    "    def learn_ls(self, X, Y):\n",
    "        self.weights = np.matmul(np.matmul(np.linalg.inv(np.matmul(X.T, X)), X.T), Y)\n",
    "        \n",
    "    def print_weights(self):\n",
    "        print(self.weights)\n",
    "        \n",
    "    def predict(self, X):\n",
    "        res = np.matmul(X, self.weights)\n",
    "        return np.matmul(X, self.weights)\n",
    "    \n",
    "    def cross_validation(self, X, Y):\n",
    "        self.data = X\n",
    "        self.target = Y\n",
    "        \n",
    "        fold1 = self.data[:101]\n",
    "        fold2 = self.data[101:202]\n",
    "        fold3 = self.data[202:303]\n",
    "        fold4 = self.data[303:404]\n",
    "        fold5 = self.data[404:]\n",
    "        \n",
    "        label1 = self.target[:101]\n",
    "        label2 = self.target[101:202]\n",
    "        label3 = self.target[202:303]\n",
    "        label4 = self.target[303:404]\n",
    "        label5 = self.target[404:]      \n",
    "        \n",
    "        #iteration 1\n",
    "        training_data = np.vstack((fold2, fold3, fold4, fold5))\n",
    "        test_data = np.array(fold1)\n",
    "        \n",
    "        training_label = np.vstack((label2, label3, label4, label5))\n",
    "        test_label = np.array(label1)\n",
    "                \n",
    "        self.learn_ls(training_data, training_label)\n",
    "        pred = self.predict(test_data)\n",
    "\n",
    "        error1 = np.square(np.linalg.norm(test_label - pred)) / len(test_label)\n",
    "        print(\"Error: \", error1)\n",
    "        weight1 = np.array(self.weights)\n",
    "        \n",
    "        \n",
    "        #iteration 2\n",
    "        training_data = np.vstack((fold1, fold3, fold4, fold5))\n",
    "        test_data = np.array(fold2)\n",
    "        \n",
    "        training_label = np.vstack((label1, label3, label4, label5))\n",
    "        test_label = np.array(label2)        \n",
    "        \n",
    "        self.learn_ls(training_data, training_label)\n",
    "        pred = self.predict(test_data)\n",
    "\n",
    "        error2 = np.square(np.linalg.norm(test_label - pred)) / len(test_label)\n",
    "        print(\"Error: \", error2)\n",
    "        weight2 = np.array(self.weights)\n",
    "        \n",
    "        \n",
    "        #iteration 3\n",
    "        training_data = np.vstack((fold1, fold2, fold4, fold5))\n",
    "        test_data = np.array(fold3)\n",
    "        \n",
    "        training_label = np.vstack((label1, label2, label4, label5))\n",
    "        test_label = np.array(label3)\n",
    "        \n",
    "        self.learn_ls(training_data, training_label)\n",
    "        pred = self.predict(test_data)\n",
    "\n",
    "        error3 = np.square(np.linalg.norm(test_label - pred)) / len(test_label)\n",
    "        print(\"Error: \", error3)\n",
    "        weight3 = np.array(self.weights)\n",
    "\n",
    "        \n",
    "        #iteration 4\n",
    "        training_data = np.vstack((fold1, fold2, fold3, fold5))\n",
    "        test_data = np.array(fold4)\n",
    "        \n",
    "        training_label = np.vstack((label1, label2, label3, label5))\n",
    "        test_label = np.array(label4)     \n",
    "        \n",
    "        self.learn_ls(training_data, training_label)\n",
    "        pred = self.predict(test_data)\n",
    "\n",
    "        error4 = np.square(np.linalg.norm(test_label - pred)) / len(test_label)\n",
    "        print(\"Error: \", error4)\n",
    "        weight4 = np.array(self.weights)\n",
    "\n",
    "        \n",
    "        #iteration 5\n",
    "        training_data = np.vstack((fold1, fold2, fold3, fold4))\n",
    "        test_data = np.array(fold5)\n",
    "        \n",
    "        training_label = np.vstack((label1, label2, label3, label4))\n",
    "        test_label = np.array(label5)   \n",
    "        \n",
    "        self.learn_ls(training_data, training_label)\n",
    "        pred = self.predict(test_data)\n",
    "\n",
    "        error5 = np.square(np.linalg.norm(test_label - pred)) / len(test_label)\n",
    "        print(\"Error: \", error5)\n",
    "        weight5 = np.array(self.weights)\n",
    "        \n",
    "        print(\"Average error: \", (error1 + error2 + error3 + error4 + error5) / 5)\n",
    "        \n",
    "        return weight1, weight2, weight3, weight4, weight5\n"
   ]
  },
  {
   "cell_type": "code",
   "execution_count": 432,
   "metadata": {},
   "outputs": [
    {
     "name": "stdout",
     "output_type": "stream",
     "text": [
      "Error:  12.57469145017896\n",
      "Error:  25.809700800795664\n",
      "Error:  33.83904332296235\n",
      "Error:  80.15018694505544\n",
      "Error:  32.799862680177974\n",
      "Average error:  37.03469703983408\n"
     ]
    }
   ],
   "source": [
    "boston = ls_regression()\n",
    "boston.learn_ls(data, target)\n",
    "pred = boston.predict(data)\n",
    "\n",
    "\n",
    "weight1, weight2, weight3, weight4, weight5 = boston.cross_validation(data, target)"
   ]
  },
  {
   "cell_type": "code",
   "execution_count": 433,
   "metadata": {},
   "outputs": [
    {
     "name": "stdout",
     "output_type": "stream",
     "text": [
      "Best Weights Error:  22.1441253271984\n"
     ]
    }
   ],
   "source": [
    "res = np.matmul(data, weight1)\n",
    "print(\"Best Weights Error: \", np.square(np.linalg.norm(target - res)) / len(target))"
   ]
  },
  {
   "cell_type": "raw",
   "metadata": {},
   "source": [
    "Graph of Labeled Data vs Predicted"
   ]
  },
  {
   "cell_type": "code",
   "execution_count": 434,
   "metadata": {},
   "outputs": [
    {
     "data": {
      "image/png": "[encoded data removed]",
      "text/plain": [
       "<Figure size 432x288 with 1 Axes>"
      ]
     },
     "metadata": {
      "needs_background": "light"
     },
     "output_type": "display_data"
    }
   ],
   "source": [
    "import matplotlib.pyplot as plt\n",
    "t = range(0,50)\n",
    "plt.plot(t)\n",
    "plt.scatter(target, res)\n",
    "\n",
    "plt.show()"
   ]
  },
  {
   "cell_type": "markdown",
   "metadata": {},
   "source": [
    "Ridge Regression"
   ]
  },
  {
   "cell_type": "code",
   "execution_count": 435,
   "metadata": {},
   "outputs": [],
   "source": [
    "def learn_ridge_regression(X, Y, l):\n",
    "    square = np.matmul(X.T, X)\n",
    "    return np.matmul(np.matmul(np.linalg.inv(square + l*np.eye(14)), X.T), Y)\n",
    "\n",
    "def predict_ridge(W, X):\n",
    "    return np.matmul(X, W)\n",
    "\n",
    "def ridge_cross_validation(X, Y, l):\n",
    "    \n",
    "    data = X\n",
    "    target = Y\n",
    "\n",
    "    fold1 = data[:101]\n",
    "    fold2 = data[101:202]\n",
    "    fold3 = data[202:303]\n",
    "    fold4 = data[303:404]\n",
    "\n",
    "    label1 = target[:101]\n",
    "    label2 = target[101:202]\n",
    "    label3 = target[202:303]\n",
    "    label4 = target[303:404]\n",
    "\n",
    "\n",
    "    #iteration 1\n",
    "    training_data = np.vstack((fold2, fold3, fold4))\n",
    "    test_data = np.array(fold1)\n",
    "\n",
    "    training_label = np.vstack((label2, label3, label4))\n",
    "    test_label = np.array(label1)\n",
    "\n",
    "    w = learn_ridge_regression(training_data, training_label, l)\n",
    "    pred = predict_ridge(w, test_data)\n",
    "\n",
    "    error1 = np.square(np.linalg.norm(test_label - pred)) / len(test_label)\n",
    "#     print(\"Error: \", error1)\n",
    "    weight1 = np.array(w)\n",
    "\n",
    "\n",
    "    #iteration 2\n",
    "    training_data = np.vstack((fold1, fold3, fold4))\n",
    "    test_data = np.array(fold2)\n",
    "\n",
    "    training_label = np.vstack((label1, label3, label4))\n",
    "    test_label = np.array(label2)        \n",
    "\n",
    "    w = learn_ridge_regression(training_data, training_label, l)\n",
    "    pred = predict_ridge(w, test_data)\n",
    "\n",
    "    error2 = np.square(np.linalg.norm(test_label - pred)) / len(test_label)\n",
    "#     print(\"Error: \", error2)\n",
    "    weight2 = np.array(w)\n",
    "\n",
    "\n",
    "    #iteration 3\n",
    "    training_data = np.vstack((fold1, fold2, fold4))\n",
    "    test_data = np.array(fold3)\n",
    "\n",
    "    training_label = np.vstack((label1, label2, label4))\n",
    "    test_label = np.array(label3)\n",
    "\n",
    "    w = learn_ridge_regression(training_data, training_label, l)\n",
    "    pred = predict_ridge(w, test_data)\n",
    "\n",
    "    error3 = np.square(np.linalg.norm(test_label - pred)) / len(test_label)\n",
    "#     print(\"Error: \", error3)\n",
    "    weight3 = np.array(w)\n",
    "\n",
    "\n",
    "    #iteration 4\n",
    "    training_data = np.vstack((fold1, fold2, fold3))\n",
    "    test_data = np.array(fold4)\n",
    "\n",
    "    training_label = np.vstack((label1, label2, label3))\n",
    "    test_label = np.array(label4)     \n",
    "\n",
    "    w = learn_ridge_regression(training_data, training_label, l)\n",
    "    pred = predict_ridge(w, test_data)\n",
    "\n",
    "    error4 = np.square(np.linalg.norm(test_label - pred)) / len(test_label)\n",
    "#     print(\"Error: \", error4)\n",
    "    weight4 = np.array(w)\n",
    "    \n",
    "    return (error1 + error2 + error3 + error4)/4\n"
   ]
  },
  {
   "cell_type": "code",
   "execution_count": 436,
   "metadata": {},
   "outputs": [],
   "source": [
    "L = np.linspace(-20, 20, 10000)\n",
    "fold5 = data[404:]\n",
    "label5 = target[404:]\n",
    "errorList = []\n",
    "for l in L:\n",
    "    errorList.append(ridge_cross_validation(data, target, l))"
   ]
  },
  {
   "cell_type": "code",
   "execution_count": 437,
   "metadata": {},
   "outputs": [
    {
     "name": "stdout",
     "output_type": "stream",
     "text": [
      "Best Lambda:  -5.89058905890589\n"
     ]
    }
   ],
   "source": [
    "minIndex = np.argmin(errorList)\n",
    "print(\"Best Lambda: \", L[minIndex])"
   ]
  },
  {
   "cell_type": "markdown",
   "metadata": {},
   "source": [
    "Expected Performance and Average performance"
   ]
  },
  {
   "cell_type": "code",
   "execution_count": 438,
   "metadata": {},
   "outputs": [],
   "source": [
    "def ridge_cross_validation(X, Y, l):\n",
    "    \n",
    "    data = X\n",
    "    target = Y\n",
    "\n",
    "    fold1 = data[:101]\n",
    "    fold2 = data[101:202]\n",
    "    fold3 = data[202:303]\n",
    "    fold4 = data[303:404]\n",
    "\n",
    "    label1 = target[:101]\n",
    "    label2 = target[101:202]\n",
    "    label3 = target[202:303]\n",
    "    label4 = target[303:404]\n",
    "\n",
    "\n",
    "    #iteration 1\n",
    "    training_data = np.vstack((fold2, fold3, fold4))\n",
    "    test_data = np.array(fold1)\n",
    "\n",
    "    training_label = np.vstack((label2, label3, label4))\n",
    "    test_label = np.array(label1)\n",
    "\n",
    "    w = learn_ridge_regression(training_data, training_label, l)\n",
    "    pred = predict_ridge(w, test_data)\n",
    "\n",
    "    error1 = np.square(np.linalg.norm(test_label - pred)) / len(test_label)\n",
    "    print(\"Error: \", error1)\n",
    "    weight1 = np.array(w)\n",
    "\n",
    "\n",
    "    #iteration 2\n",
    "    training_data = np.vstack((fold1, fold3, fold4))\n",
    "    test_data = np.array(fold2)\n",
    "\n",
    "    training_label = np.vstack((label1, label3, label4))\n",
    "    test_label = np.array(label2)        \n",
    "\n",
    "    w = learn_ridge_regression(training_data, training_label, l)\n",
    "    pred = predict_ridge(w, test_data)\n",
    "\n",
    "    error2 = np.square(np.linalg.norm(test_label - pred)) / len(test_label)\n",
    "    print(\"Error: \", error2)\n",
    "    weight2 = np.array(w)\n",
    "\n",
    "\n",
    "    #iteration 3\n",
    "    training_data = np.vstack((fold1, fold2, fold4))\n",
    "    test_data = np.array(fold3)\n",
    "\n",
    "    training_label = np.vstack((label1, label2, label4))\n",
    "    test_label = np.array(label3)\n",
    "\n",
    "    w = learn_ridge_regression(training_data, training_label, l)\n",
    "    pred = predict_ridge(w, test_data)\n",
    "\n",
    "    error3 = np.square(np.linalg.norm(test_label - pred)) / len(test_label)\n",
    "    print(\"Error: \", error3)\n",
    "    weight3 = np.array(w)\n",
    "\n",
    "\n",
    "    #iteration 4\n",
    "    training_data = np.vstack((fold1, fold2, fold3))\n",
    "    test_data = np.array(fold4)\n",
    "\n",
    "    training_label = np.vstack((label1, label2, label3))\n",
    "    test_label = np.array(label4)     \n",
    "\n",
    "    w = learn_ridge_regression(training_data, training_label, l)\n",
    "    pred = predict_ridge(w, test_data)\n",
    "\n",
    "    error4 = np.square(np.linalg.norm(test_label - pred)) / len(test_label)\n",
    "    print(\"Error: \", error4)\n",
    "    weight4 = np.array(w)\n",
    "    \n",
    "    return (error1 + error2 + error3 + error4)/4"
   ]
  },
  {
   "cell_type": "code",
   "execution_count": 439,
   "metadata": {},
   "outputs": [
    {
     "name": "stdout",
     "output_type": "stream",
     "text": [
      "Error:  8.843344472659137\n",
      "Error:  19.29100960287491\n",
      "Error:  20.916586459704575\n",
      "Error:  111.66740752031211\n",
      "Average Error:  40.179587013887684\n"
     ]
    }
   ],
   "source": [
    "print(\"Average Error: \", ridge_cross_validation(data, target, L[minIndex]))"
   ]
  },
  {
   "cell_type": "code",
   "execution_count": 440,
   "metadata": {},
   "outputs": [
    {
     "name": "stdout",
     "output_type": "stream",
     "text": [
      "Expected Error:  14.241417471043281\n"
     ]
    }
   ],
   "source": [
    "#weight1 gives the best results\n",
    "pred = predict_ridge(weight1, fold5)\n",
    "print(\"Expected Error: \", np.square(np.linalg.norm(label5 - pred)) / len(label5))"
   ]
  }
 ],
 "metadata": {
  "kernelspec": {
   "display_name": "Python 3",
   "language": "python",
   "name": "python3"
  },
  "language_info": {
   "codemirror_mode": {
    "name": "ipython",
    "version": 3
   },
   "file_extension": ".py",
   "mimetype": "text/x-python",
   "name": "python",
   "nbconvert_exporter": "python",
   "pygments_lexer": "ipython3",
   "version": "3.5.2"
  }
 },
 "nbformat": 4,
 "nbformat_minor": 2
}
