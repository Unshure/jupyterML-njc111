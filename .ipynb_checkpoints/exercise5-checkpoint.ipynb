{
 "cells": [
  {
   "cell_type": "markdown",
   "metadata": {},
   "source": [
    "Standardizing Data"
   ]
  },
  {
   "cell_type": "markdown",
   "metadata": {},
   "source": [
    "1"
   ]
  },
  {
   "cell_type": "code",
   "execution_count": 277,
   "metadata": {
    "scrolled": true
   },
   "outputs": [],
   "source": [
    "import math\n",
    "import numpy as np\n",
    "import matplotlib.pyplot as plt\n",
    "from sklearn.datasets import load_wine\n",
    "samples, labels = load_wine(return_X_y=True)\n",
    "samples = np.array(samples).T\n",
    "\n",
    "centered_samples = np.add(samples.T, -1 * np.mean(samples, axis=1))"
   ]
  },
  {
   "cell_type": "markdown",
   "metadata": {},
   "source": [
    "2"
   ]
  },
  {
   "cell_type": "code",
   "execution_count": 300,
   "metadata": {},
   "outputs": [
    {
     "name": "stdout",
     "output_type": "stream",
     "text": [
      "-2.3563820150867767\n"
     ]
    }
   ],
   "source": [
    "C = np.cov(centered_samples.T)\n",
    "\n",
    "values, vectors = np.linalg.eig(C)\n",
    "\n",
    "U = np.append(np.array([vectors[0]]).T, np.array([vectors[1]]).T, axis=1)\n",
    "\n",
    "pca_data = np.matmul(U.T, centered_samples.T)\n",
    "\n",
    "red = np.array([[],[]])\n",
    "green = np.array([[],[]])\n",
    "blue = np.array([[],[]])\n",
    "for i, label in enumerate(labels):\n",
    "    if label == 0:\n",
    "        red = np.append(red, np.array([pca_data[:,i]]).T, axis=1)\n",
    "    if label == 1:\n",
    "        green = np.append(green, np.array([pca_data[:,i]]).T, axis=1)\n",
    "    if label == 2:\n",
    "        blue = np.append(blue, np.array([pca_data[:,i]]).T, axis=1)\n",
    "        \n",
    "print(np.mean(red))\n",
    "        \n",
    "# plt.plot(red[0], red[1], 'rs')\n",
    "# plt.plot(green[0], green[1], 'g^')\n",
    "# plt.plot(blue[0], blue[1], 'bo')\n",
    "# plt.show()"
   ]
  },
  {
   "cell_type": "markdown",
   "metadata": {},
   "source": [
    "3"
   ]
  },
  {
   "cell_type": "code",
   "execution_count": 280,
   "metadata": {},
   "outputs": [],
   "source": [
    "centered_normalized_samples = np.divide(centered_samples, np.std(centered_samples, axis=0))"
   ]
  },
  {
   "cell_type": "markdown",
   "metadata": {},
   "source": [
    "4"
   ]
  },
  {
   "cell_type": "code",
   "execution_count": 281,
   "metadata": {},
   "outputs": [
    {
     "data": {
      "image/png": "[encoded data removed]",
      "text/plain": [
       "<Figure size 432x288 with 1 Axes>"
      ]
     },
     "metadata": {
      "needs_background": "light"
     },
     "output_type": "display_data"
    }
   ],
   "source": [
    "norm_C = np.cov(centered_normalized_samples.T)\n",
    "\n",
    "norm_values, norm_vectors = np.linalg.eig(norm_C)\n",
    "\n",
    "norm_U = np.append(np.array([norm_vectors[0]]).T, np.array([norm_vectors[1]]).T, axis=1)\n",
    "\n",
    "norm_pca_data = np.matmul(norm_U.T, centered_normalized_samples.T)\n",
    "\n",
    "norm_red = np.array([[],[]])\n",
    "norm_green = np.array([[],[]])\n",
    "norm_blue = np.array([[],[]])\n",
    "for i, label in enumerate(labels):\n",
    "    if label == 0:\n",
    "        norm_red = np.append(norm_red, np.array([norm_pca_data[:,i]]).T, axis=1)\n",
    "    if label == 1:\n",
    "        norm_green = np.append(norm_green, np.array([norm_pca_data[:,i]]).T, axis=1)\n",
    "    if label == 2:\n",
    "        norm_blue = np.append(norm_blue, np.array([norm_pca_data[:,i]]).T, axis=1)\n",
    "\n",
    "plt.plot(norm_red[0], norm_red[1], 'rs')\n",
    "plt.plot(norm_green[0], norm_green[1], 'g^')\n",
    "plt.plot(norm_blue[0], norm_blue[1], 'bo')\n",
    "plt.show()"
   ]
  },
  {
   "cell_type": "markdown",
   "metadata": {},
   "source": [
    "5.\n",
    "Looking at the graphs above, the data set that was only mean centered would lead to better classification performance since there is less overlap between the different labeled data points."
   ]
  },
  {
   "cell_type": "markdown",
   "metadata": {},
   "source": [
    "Naive Bayes Classification"
   ]
  },
  {
   "cell_type": "markdown",
   "metadata": {},
   "source": [
    "1"
   ]
  },
  {
   "cell_type": "code",
   "execution_count": 336,
   "metadata": {},
   "outputs": [],
   "source": [
    "class naiveBayeGaussians:\n",
    "    \n",
    "    def __init__(self):\n",
    "        self.classVars = np.array([[],[],[],[]])\n",
    "        \n",
    "    def fit(self, X, Y):\n",
    "        # Segment data by class\n",
    "        red = np.array([[],[]])\n",
    "        green = np.array([[],[]])\n",
    "        blue = np.array([[],[]])\n",
    "        for i, label in enumerate(Y):\n",
    "            if label == 0:\n",
    "                red = np.append(red, np.array([X[:,i]]).T, axis=1)\n",
    "            if label == 1:\n",
    "                green = np.append(green, np.array([X[:,i]]).T, axis=1)\n",
    "            if label == 2:\n",
    "                blue = np.append(blue, np.array([X[:,i]]).T, axis=1)\n",
    "                \n",
    "        # Compute Vars for each class\n",
    "        \n",
    "        classes = [red, green, blue]\n",
    "        for cls in classes:\n",
    "            # Feature 1\n",
    "            m1 = np.mean(cls[0])\n",
    "            v1 = np.var(cls[0])\n",
    "            # Feature 2\n",
    "            m2 = np.mean(cls[1])\n",
    "            v2 = np.var(cls[1])\n",
    "            self.classVars = np.append(self.classVars, np.array([[m1], [v1], [m2], [v2]]), axis=1)\n",
    "            \n",
    "    def predict(self, X):\n",
    "        output = np.array([])\n",
    "        # Loop through all data\n",
    "        for x in X.T:\n",
    "            # Probablility of each class\n",
    "            probs = np.array([])\n",
    "            # Loop through all vars for each class\n",
    "            for var in self.classVars.T:\n",
    "                prob1 = self.__normDist(var[0], var[1], x[0])\n",
    "                prob2 = self.__normDist(var[2], var[3], x[1])\n",
    "                probs = np.append(probs, prob1 * prob2)\n",
    "                                         \n",
    "            # Return class with highest probability\n",
    "            #print(probs)\n",
    "            output = np.append(output, np.argmax(probs))\n",
    "        return output\n",
    "            \n",
    "    def printClassVars(self):\n",
    "        print(\"Class 0 | Feature 0 - Mean: \", self.classVars.T[0][0], \"\\tVar: \", self.classVars.T[0][1])\n",
    "        print(\"Class 0 | Feature 1 - Mean: \", self.classVars.T[0][2], \"\\tVar: \", self.classVars.T[0][3])\n",
    "        print(\"Class 1 | Feature 0 - Mean: \", self.classVars.T[1][0], \"\\tVar: \", self.classVars.T[1][1])\n",
    "        print(\"Class 1 | Feature 1 - Mean: \", self.classVars.T[1][2], \"\\tVar: \", self.classVars.T[1][3])\n",
    "        print(\"Class 2 | Feature 0 - Mean: \", self.classVars.T[2][0], \"\\tVar: \", self.classVars.T[2][1])\n",
    "        print(\"Class 2 | Feature 1 - Mean: \", self.classVars.T[2][2], \"\\tVar: \", self.classVars.T[2][3])\n",
    "\n",
    "\n",
    "        \n",
    "    def __normDist(self, u, v, x):\n",
    "        return math.exp(-(math.pow(x-u,2)/(2*v)))/(math.sqrt(2*math.pi*v))"
   ]
  },
  {
   "cell_type": "markdown",
   "metadata": {},
   "source": [
    "2"
   ]
  },
  {
   "cell_type": "code",
   "execution_count": 352,
   "metadata": {},
   "outputs": [
    {
     "name": "stdout",
     "output_type": "stream",
     "text": [
      "--My Bayes on centered data--\n",
      "Prediction: \t [0. 0. 0. 0. 1. 0. 0. 0. 0. 0. 0. 0. 0. 0. 0. 0. 0. 0. 0. 0. 0. 1. 0. 0.\n",
      " 1. 1. 0. 0. 0. 0. 0. 0. 0. 0. 0. 0.]\n",
      "Label: \t\t [0 0 0 0 0 0 0 0 0 0 0 0 0 0 0 0 0 0 0 0 0 0 0 0 0 0 0 0 0 0 0 0 0 0 0 0]\n",
      "Accuracy:  0.8888888888888888\n",
      "Prediction: \t [0. 0. 0. 0. 0. 0. 0. 0. 0. 0. 0. 0. 0. 0. 0. 0. 0. 0. 0. 0. 0. 0. 0. 1.\n",
      " 1. 1. 1. 1. 1. 1. 0. 1. 1. 1. 1. 2.]\n",
      "Label: \t\t [0 0 0 0 0 0 0 0 0 0 0 0 0 0 0 0 0 0 0 0 0 0 0 1 1 1 1 1 1 1 1 1 1 1 1 1]\n",
      "Accuracy:  0.9444444444444444\n",
      "Prediction: \t [2. 1. 1. 1. 1. 1. 0. 1. 2. 1. 2. 2. 1. 1. 2. 2. 1. 2. 2. 2. 2. 1. 1. 0.\n",
      " 1. 1. 0. 1. 1. 1. 1. 2. 1. 2. 1. 2.]\n",
      "Label: \t\t [1 1 1 1 1 1 1 1 1 1 1 1 1 1 1 1 1 1 1 1 1 1 1 1 1 1 1 1 1 1 1 1 1 1 1 1]\n",
      "Accuracy:  0.5555555555555556\n",
      "Prediction: \t [2. 1. 1. 2. 1. 2. 2. 2. 2. 1. 2. 1. 1. 1. 2. 1. 1. 1. 1. 2. 2. 2. 1. 2.\n",
      " 2. 2. 2. 2. 2. 2. 2. 2. 2. 2. 2.]\n",
      "Label: \t\t [1 1 1 1 1 1 1 1 1 1 1 1 1 1 1 1 1 1 1 1 1 1 2 2 2 2 2 2 2 2 2 2 2 2 2]\n",
      "Accuracy:  0.6571428571428571\n",
      "Prediction: \t [2. 1. 2. 2. 2. 2. 1. 1. 1. 1. 2. 2. 2. 2. 2. 2. 2. 2. 2. 2. 1. 2. 2. 2.\n",
      " 2. 2. 2. 2. 2. 2. 2. 2. 1. 1. 2.]\n",
      "Label: \t\t [2 2 2 2 2 2 2 2 2 2 2 2 2 2 2 2 2 2 2 2 2 2 2 2 2 2 2 2 2 2 2 2 2 2 2]\n",
      "Accuracy:  0.7714285714285715\n",
      "Average Accuracy:  0.7634920634920634\n",
      "\n",
      "--My Bayes on standardized data--\n",
      "Prediction: \t [0. 0. 0. 0. 2. 0. 0. 0. 0. 0. 0. 2. 0. 0. 0. 0. 2. 2. 0. 0. 0. 0. 2. 0.\n",
      " 2. 2. 0. 0. 2. 0. 2. 0. 2. 0. 2. 2.]\n",
      "Label: \t\t [0 0 0 0 0 0 0 0 0 0 0 0 0 0 0 0 0 0 0 0 0 0 0 0 0 0 0 0 0 0 0 0 0 0 0 0]\n",
      "Accuracy:  0.6666666666666666\n",
      "Prediction: \t [0. 0. 0. 0. 0. 1. 0. 1. 0. 0. 1. 0. 2. 0. 0. 0. 0. 0. 0. 0. 0. 0. 0. 0.\n",
      " 1. 0. 2. 2. 1. 0. 1. 2. 0. 0. 2. 1.]\n",
      "Label: \t\t [0 0 0 0 0 0 0 0 0 0 0 0 0 0 0 0 0 0 0 0 0 0 0 1 1 1 1 1 1 1 1 1 1 1 1 1]\n",
      "Accuracy:  0.6388888888888888\n",
      "Prediction: \t [1. 1. 0. 2. 2. 2. 0. 1. 2. 2. 1. 1. 2. 2. 1. 1. 2. 2. 2. 1. 1. 1. 0. 0.\n",
      " 2. 2. 0. 0. 2. 2. 2. 2. 2. 1. 2. 1.]\n",
      "Label: \t\t [1 1 1 1 1 1 1 1 1 1 1 1 1 1 1 1 1 1 1 1 1 1 1 1 1 1 1 1 1 1 1 1 1 1 1 1]\n",
      "Accuracy:  0.3333333333333333\n",
      "Prediction: \t [2. 2. 0. 2. 1. 1. 1. 1. 2. 1. 2. 2. 2. 1. 1. 1. 1. 1. 1. 1. 1. 2. 1. 1.\n",
      " 1. 2. 0. 2. 2. 2. 2. 2. 2. 2. 1.]\n",
      "Label: \t\t [1 1 1 1 1 1 1 1 1 1 1 1 1 1 1 1 1 1 1 1 1 1 2 2 2 2 2 2 2 2 2 2 2 2 2]\n",
      "Accuracy:  0.6\n",
      "Prediction: \t [0. 0. 1. 1. 1. 1. 2. 2. 2. 2. 0. 2. 1. 1. 2. 1. 0. 0. 2. 2. 2. 2. 1. 2.\n",
      " 2. 2. 2. 2. 2. 2. 0. 2. 0. 2. 1.]\n",
      "Label: \t\t [2 2 2 2 2 2 2 2 2 2 2 2 2 2 2 2 2 2 2 2 2 2 2 2 2 2 2 2 2 2 2 2 2 2 2]\n",
      "Accuracy:  0.5428571428571428\n",
      "Average Accuracy:  0.5563492063492063\n",
      "\n",
      "--sklearns naive Bayes on standardized data--\n",
      "Prediction: \t [0 0 0 0 2 0 0 0 0 0 0 2 0 0 0 0 2 1 0 0 2 0 2 2 2 1 0 0 2 0 2 0 2 1 2 2]\n",
      "Label: \t\t [0 0 0 0 0 0 0 0 0 0 0 0 0 0 0 0 0 0 0 0 0 0 0 0 0 0 0 0 0 0 0 0 0 0 0 0]\n",
      "Accuracy:  0.5833333333333334\n",
      "Prediction: \t [0 0 0 1 0 1 0 1 0 1 1 1 2 0 0 0 0 0 0 0 0 0 0 0 1 2 1 2 1 2 1 2 0 0 1 1]\n",
      "Label: \t\t [0 0 0 0 0 0 0 0 0 0 0 0 0 0 0 0 0 0 0 0 0 0 0 1 1 1 1 1 1 1 1 1 1 1 1 1]\n",
      "Accuracy:  0.6111111111111112\n",
      "Prediction: \t [1 1 0 2 2 2 0 1 2 2 1 1 2 2 1 1 2 2 2 2 1 1 0 0 2 2 0 0 2 2 2 2 2 1 2 1]\n",
      "Label: \t\t [1 1 1 1 1 1 1 1 1 1 1 1 1 1 1 1 1 1 1 1 1 1 1 1 1 1 1 1 1 1 1 1 1 1 1 1]\n",
      "Accuracy:  0.3055555555555556\n",
      "Prediction: \t [1 2 0 1 1 1 1 1 1 1 2 1 0 1 1 1 1 1 1 1 1 1 1 1 1 2 0 0 0 2 2 2 1 2 1]\n",
      "Label: \t\t [1 1 1 1 1 1 1 1 1 1 1 1 1 1 1 1 1 1 1 1 1 1 2 2 2 2 2 2 2 2 2 2 2 2 2]\n",
      "Accuracy:  0.6571428571428571\n",
      "Prediction: \t [1 0 1 1 1 1 1 1 1 1 0 1 1 1 1 1 0 0 0 1 0 1 1 1 0 1 1 1 1 1 0 1 0 0 1]\n",
      "Label: \t\t [2 2 2 2 2 2 2 2 2 2 2 2 2 2 2 2 2 2 2 2 2 2 2 2 2 2 2 2 2 2 2 2 2 2 2]\n",
      "Accuracy:  0.0\n",
      "Average Accuracy:  0.4314285714285715\n",
      "\n"
     ]
    }
   ],
   "source": [
    "from sklearn.naive_bayes import GaussianNB\n",
    "from sklearn.model_selection import KFold\n",
    "kf = KFold(n_splits=5)\n",
    "\n",
    "\n",
    "print(\"--My Bayes on centered data--\")\n",
    "myAccCentered = np.array([])\n",
    "\n",
    "for train_index, test_index in kf.split(pca_data.T):\n",
    "    myBayes = naiveBayeGaussians()\n",
    "\n",
    "    #print(\"TRAIN:\", train_index, \"\\nTEST:\", test_index)\n",
    "    X_train, X_test = pca_data.T[train_index].T, pca_data.T[test_index].T\n",
    "    y_train, y_test = labels[train_index], labels[test_index]\n",
    "    \n",
    "    myBayes.fit(X_train, y_train)\n",
    "    predictions =  myBayes.predict(X_test)\n",
    "    print(\"Prediction: \\t\",predictions)\n",
    "    print(\"Label: \\t\\t\", y_test)\n",
    "    \n",
    "    match = 0\n",
    "    for x in range(0, len(y_test)):\n",
    "        if predictions[x] == y_test[x]:\n",
    "            match += 1\n",
    "    accuracy = match/len(y_test)\n",
    "    myAccCentered = np.append(myAccCentered, accuracy)\n",
    "\n",
    "    print(\"Accuracy: \", accuracy)\n",
    "\n",
    "print(\"Average Accuracy: \", np.mean(myAccCentered))\n",
    "print()\n",
    "\n",
    "    \n",
    "print(\"--My Bayes on standardized data--\")\n",
    "myAccStand = np.array([])\n",
    "\n",
    "for train_index, test_index in kf.split(norm_pca_data.T):\n",
    "    myBayes = naiveBayeGaussians()\n",
    "\n",
    "    #print(\"TRAIN:\", train_index, \"\\nTEST:\", test_index)\n",
    "    X_train, X_test = norm_pca_data.T[train_index].T, norm_pca_data.T[test_index].T\n",
    "    y_train, y_test = labels[train_index], labels[test_index]\n",
    "    \n",
    "    myBayes.fit(X_train, y_train)\n",
    "    predictions =  myBayes.predict(X_test)\n",
    "    print(\"Prediction: \\t\",predictions)\n",
    "    print(\"Label: \\t\\t\", y_test)\n",
    "    \n",
    "    match = 0\n",
    "    for x in range(0, len(y_test)):\n",
    "        if predictions[x] == y_test[x]:\n",
    "            match += 1\n",
    "    accuracy = match/len(y_test)\n",
    "    myAccStand = np.append(mygAccStand, accuracy)\n",
    "\n",
    "    print(\"Accuracy: \", accuracy)\n",
    "    \n",
    "print(\"Average Accuracy: \", np.mean(myAccStand))\n",
    "print()\n",
    "\n",
    "    \n",
    "print(\"--sklearns naive Bayes on standardized data--\")\n",
    "skNBAcc = np.array([])\n",
    "\n",
    "skNB = GaussianNB()\n",
    "\n",
    "for train_index, test_index in kf.split(norm_pca_data.T):\n",
    "    \n",
    "    #print(\"TRAIN:\", train_index, \"\\nTEST:\", test_index)\n",
    "    X_train, X_test = norm_pca_data.T[train_index], norm_pca_data.T[test_index]\n",
    "    y_train, y_test = labels[train_index], labels[test_index]\n",
    "    \n",
    "    skNB.fit(X_train, y_train)\n",
    "    predictions = skNB.predict(X_test)\n",
    "    print(\"Prediction: \\t\", predictions)\n",
    "    print(\"Label: \\t\\t\", y_test)\n",
    "    \n",
    "    match = 0\n",
    "    for x in range(0, len(y_test)):\n",
    "        if predictions[x] == y_test[x]:\n",
    "            match += 1\n",
    "    accuracy = match/len(y_test)\n",
    "    skNBAcc = np.append(skNBAcc, accuracy)\n",
    "\n",
    "    print(\"Accuracy: \", accuracy)\n",
    "     \n",
    "print(\"Average Accuracy: \", np.mean(skNBAcc))\n",
    "print()\n",
    "\n",
    "    \n",
    "    "
   ]
  },
  {
   "cell_type": "markdown",
   "metadata": {},
   "source": [
    "3"
   ]
  },
  {
   "cell_type": "code",
   "execution_count": null,
   "metadata": {},
   "outputs": [],
   "source": [
    "print(\"Case 1:\")\n",
    "print(\"Mean\")"
   ]
  }
 ],
 "metadata": {
  "kernelspec": {
   "display_name": "Python 3",
   "language": "python",
   "name": "python3"
  },
  "language_info": {
   "codemirror_mode": {
    "name": "ipython",
    "version": 3
   },
   "file_extension": ".py",
   "mimetype": "text/x-python",
   "name": "python",
   "nbconvert_exporter": "python",
   "pygments_lexer": "ipython3",
   "version": "3.5.2"
  }
 },
 "nbformat": 4,
 "nbformat_minor": 2
}
