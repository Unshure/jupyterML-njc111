{
 "cells": [
  {
   "cell_type": "code",
   "execution_count": 3,
   "metadata": {},
   "outputs": [],
   "source": [
    "from sklearn.datasets import load_digits\n",
    "images, labels = load_digits(2, return_X_y=True)\n",
    "# Labeled training set\n",
    "training_images = images[:300]\n",
    "training_labels = labels[:300]\n",
    "# Labeled test set\n",
    "test_images = images[300:]\n",
    "test_labels = labels[300:]"
   ]
  },
  {
   "cell_type": "markdown",
   "metadata": {},
   "source": [
    "1. "
   ]
  },
  {
   "cell_type": "code",
   "execution_count": 5,
   "metadata": {},
   "outputs": [
    {
     "ename": "TypeError",
     "evalue": "Object arrays are not currently supported",
     "output_type": "error",
     "traceback": [
      "\u001b[0;31m---------------------------------------------------------------------------\u001b[0m",
      "\u001b[0;31mTypeError\u001b[0m                                 Traceback (most recent call last)",
      "\u001b[0;32m<ipython-input-5-2602ba18cce9>\u001b[0m in \u001b[0;36m<module>\u001b[0;34m()\u001b[0m\n\u001b[1;32m     12\u001b[0m \u001b[0mU\u001b[0m \u001b[0;34m=\u001b[0m \u001b[0mnp\u001b[0m\u001b[0;34m.\u001b[0m\u001b[0marray\u001b[0m\u001b[0;34m(\u001b[0m\u001b[0;34m[\u001b[0m\u001b[0mv\u001b[0m\u001b[0;34m[\u001b[0m\u001b[0;34m:\u001b[0m\u001b[0;34m,\u001b[0m\u001b[0;36m0\u001b[0m\u001b[0;34m]\u001b[0m\u001b[0;34m,\u001b[0m \u001b[0mv\u001b[0m\u001b[0;34m[\u001b[0m\u001b[0;34m:\u001b[0m\u001b[0;34m,\u001b[0m\u001b[0;36m1\u001b[0m\u001b[0;34m]\u001b[0m\u001b[0;34m]\u001b[0m\u001b[0;34m)\u001b[0m\u001b[0;34m\u001b[0m\u001b[0m\n\u001b[1;32m     13\u001b[0m \u001b[0;34m\u001b[0m\u001b[0m\n\u001b[0;32m---> 14\u001b[0;31m \u001b[0mimgcentnorm\u001b[0m \u001b[0;34m=\u001b[0m \u001b[0mnp\u001b[0m\u001b[0;34m.\u001b[0m\u001b[0mmatmul\u001b[0m\u001b[0;34m(\u001b[0m\u001b[0mU\u001b[0m\u001b[0;34m,\u001b[0m \u001b[0mnp\u001b[0m\u001b[0;34m.\u001b[0m\u001b[0mmatmul\u001b[0m\u001b[0;34m)\u001b[0m \u001b[0;34m+\u001b[0m \u001b[0mmean\u001b[0m\u001b[0;34m\u001b[0m\u001b[0m\n\u001b[0m\u001b[1;32m     15\u001b[0m \u001b[0;34m\u001b[0m\u001b[0m\n\u001b[1;32m     16\u001b[0m \u001b[0;34m\u001b[0m\u001b[0m\n",
      "\u001b[0;31mTypeError\u001b[0m: Object arrays are not currently supported"
     ]
    }
   ],
   "source": [
    "# Principal Component Analysis\n",
    "import numpy as np\n",
    "import scipy as sp\n",
    "import matplotlib.pyplot as plt\n",
    "\n",
    "#Center the data\n",
    "mean = np.array([np.mean(training_images.T, axis=1)]).T\n",
    "imgCent = training_images.T - mean\n",
    "w, v = np.linalg.eig(np.matmul(imgCent, imgCent.T))\n",
    "\n",
    "#Get the top two features\n",
    "U = np.array([v[:,0], v[:,1]])\n",
    "\n",
    "imgcentnorm = np.matmul(U, np.matmul) + mean\n",
    "\n",
    "\n",
    "onesx = np.array([])\n",
    "onesy = np.array([])\n",
    "zerosx = np.array([])\n",
    "zerosy = np.array([])\n",
    "for index, number in enumerate(training_labels):\n",
    "    if number == 1:\n",
    "        onesx = np.append(onesx, imgcentnorm.T[index][0])\n",
    "        onesy = np.append(onesy, imgcentnorm.T[index][1])\n",
    "    else:\n",
    "        zerosx = np.append(zerosx, imgcentnorm.T[index][0])\n",
    "        zerosy = np.append(zerosy, imgcentnorm.T[index][1])\n",
    "\n",
    "plt.plot(U[0], U[1], '.r')\n",
    "plt.show()"
   ]
  },
  {
   "cell_type": "markdown",
   "metadata": {},
   "source": [
    "2. "
   ]
  },
  {
   "cell_type": "code",
   "execution_count": null,
   "metadata": {},
   "outputs": [],
   "source": [
    "#Compute the PCL and take the top two features\n",
    "utest, stest, vhtest = np.linalg.svd(test_images)\n",
    "Utest = np.array([utest[:,0], utest[:,1]]).T\n",
    "\n",
    "\n",
    "testGuess = np.array([])\n",
    "\n",
    "for image in Utest:\n",
    "    #Determine the distances of all the points from the test points\n",
    "    distances = np.array([])\n",
    "    for point in U:\n",
    "        distances = np.append(distances, np.linalg.norm(point - image))\n",
    "    distances = np.argsort(distances)\n",
    "    \n",
    "    #Check the five closest points since k=5\n",
    "    testSum = 0\n",
    "    for i in distances[0:5]:\n",
    "        testSum += training_labels[i]\n",
    "        \n",
    "    #If the sum is 0 - 2, that means the majority of the neighbors are zeros\n",
    "    #If the sum is 3 - 5, that means the majority of the neighbors are ones\n",
    "    if testSum > 2:\n",
    "        testGuess = np.append(testGuess, 1)\n",
    "    else:\n",
    "        testGuess = np.append(testGuess, 0)\n",
    "\n",
    "correctx = np.array([])\n",
    "correcty = np.array([])\n",
    "wrongx = np.array([])\n",
    "wrongy = np.array([])\n",
    "for index in range(0, 60):\n",
    "    if testGuess[index] == test_labels[index]:\n",
    "        correctx = np.append(correctx, Utest[index][0])\n",
    "        correcty = np.append(correcty, Utest[index][1])\n",
    "    else:\n",
    "        wrongx = np.append(wrongx, Utest[index][0])\n",
    "        wrongy = np.append(wrongy, Utest[index][1])\n",
    "        \n",
    "\n",
    "plt.plot(correctx, correcty, '.b', wrongx, wrongy, '.k')\n",
    "plt.show()\n",
    "        "
   ]
  },
  {
   "cell_type": "markdown",
   "metadata": {},
   "source": [
    "3. "
   ]
  },
  {
   "cell_type": "code",
   "execution_count": null,
   "metadata": {},
   "outputs": [],
   "source": [
    "wrongSum = 0\n",
    "for index in range(0, 60):\n",
    "    if testGuess[index] == test_labels[index]:\n",
    "        wrongSum +=1\n",
    "        \n",
    "avgClassificationError = wrongSum / 60\n",
    "\n",
    "print(\"Average Error: \", avgClassificationError)"
   ]
  },
  {
   "cell_type": "markdown",
   "metadata": {},
   "source": [
    "k-NN Classification Using Higher-Dimensional Features"
   ]
  },
  {
   "cell_type": "markdown",
   "metadata": {},
   "source": [
    "1. "
   ]
  },
  {
   "cell_type": "code",
   "execution_count": null,
   "metadata": {},
   "outputs": [],
   "source": [
    "u, s, vh = np.linalg.svd(training_images)\n",
    "\n",
    "print(np.sum(np.power(s[0:8], 2)) / (np.power(np.linalg.norm(training_images), 2)))\n",
    "print(\"The top 8 features are needed to reach 95% coverage\")\n",
    "\n",
    "UHigh = np.array([u[:,0], u[:,1], u[:,2], u[:,3], u[:,4], u[:,5], u[:,6], u[:,7]]).T\n"
   ]
  },
  {
   "cell_type": "markdown",
   "metadata": {},
   "source": [
    "2. "
   ]
  },
  {
   "cell_type": "code",
   "execution_count": null,
   "metadata": {},
   "outputs": [],
   "source": [
    "utest, stest, vhtest = np.linalg.svd(test_images)\n",
    "UTestHigh = np.array([utest[:,0], utest[:,1], utest[:,2], utest[:,3], utest[:,4], utest[:,5], utest[:,6], utest[:,7]]).T\n",
    "\n",
    "error = np.array([])\n",
    "for k in range(1, 10, 2):\n",
    "    \n",
    "    testGuessHigh = np.array([])\n",
    "\n",
    "    for image in UTestHigh:\n",
    "        #Determine the distances of all the points from the test points\n",
    "        distances = np.array([])\n",
    "        for point in UHigh:\n",
    "            distances = np.append(distances, np.linalg.norm(point - image))\n",
    "        distances = np.argsort(distances)\n",
    "        #Check the k closest points to image\n",
    "        testSum = 0\n",
    "        for i in distances[0:k]:\n",
    "            testSum += training_labels[i]\n",
    "\n",
    "        #If the sum is 0 - 2, that means the majority of the neighbors are zeros\n",
    "        #If the sum is 3 - 5, that means the majority of the neighbors are ones\n",
    "        if testSum > 2:\n",
    "            testGuessHigh = np.append(testGuessHigh, 1)\n",
    "        else:\n",
    "            testGuessHigh = np.append(testGuessHigh, 0)\n",
    "\n",
    "\n",
    "    wrongSum = 0\n",
    "    for index in range(0, 60):\n",
    "        if testGuessHigh[index] == test_labels[index]:\n",
    "            wrongSum +=1\n",
    "    error = np.append(error, wrongSum / 60)\n",
    "plt.plot(range(1, 10, 2), error)\n",
    "plt.show()"
   ]
  },
  {
   "cell_type": "markdown",
   "metadata": {},
   "source": [
    "Based on this plot, I recommend a K of 3 for future k-NN classification of digits '0' and '1' since it gives the best performance compared to its time to compute."
   ]
  }
 ],
 "metadata": {
  "kernelspec": {
   "display_name": "Python 3",
   "language": "python",
   "name": "python3"
  },
  "language_info": {
   "codemirror_mode": {
    "name": "ipython",
    "version": 3
   },
   "file_extension": ".py",
   "mimetype": "text/x-python",
   "name": "python",
   "nbconvert_exporter": "python",
   "pygments_lexer": "ipython3",
   "version": "3.5.2"
  }
 },
 "nbformat": 4,
 "nbformat_minor": 2
}
