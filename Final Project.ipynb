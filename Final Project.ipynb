{
 "cells": [
  {
   "cell_type": "code",
   "execution_count": null,
   "metadata": {},
   "outputs": [],
   "source": []
  },
  {
   "cell_type": "code",
   "execution_count": 7,
   "metadata": {},
   "outputs": [
    {
     "name": "stdout",
     "output_type": "stream",
     "text": [
      "[['Name' 'AJ Price' 'Aaron Brooks' ... 'Zach Randolph' 'Zaza Pachulia'\n",
      "  'Zoran Dragic']\n",
      " ['Games Played' '26' '82' ... '71' '73' '16']\n",
      " ['MIN' '324' '1885' ... '2304' '1730' '75']\n",
      " ...\n",
      " ['AST/TOV' '3.29' '1.66' ... '0.98' '1.34' '1']\n",
      " ['STL/TOV' '0.5' '0.34' ... '0.44' '0.6' '0.4']\n",
      " ['Pos' 'PG' 'PG' ... 'PF' 'C' 'SG']]\n"
     ]
    }
   ],
   "source": [
    "import numpy as np\n",
    "import csv\n",
    "data = []\n",
    "with open('players_stats.csv') as file:\n",
    "    csv_reader = csv.reader(file, delimiter=',')\n",
    "    for row in csv_reader:\n",
    "        data.append(row)\n",
    "good_data = np.array(data)\n",
    "print(good_data.T)\n",
    "good_data = []\n",
    "# for column in data[0]"
   ]
  },
  {
   "cell_type": "code",
   "execution_count": 8,
   "metadata": {},
   "outputs": [],
   "source": [
    "from sklearn.linear_model import LogisticRegression\n",
    "clf = LogisticRegression(random_state=0, solver='lbfgs', multi_class='multinomial')\n",
    "clf.fit(X, Y)"
   ]
  }
 ],
 "metadata": {
  "kernelspec": {
   "display_name": "Python 3",
   "language": "python",
   "name": "python3"
  },
  "language_info": {
   "codemirror_mode": {
    "name": "ipython",
    "version": 3
   },
   "file_extension": ".py",
   "mimetype": "text/x-python",
   "name": "python",
   "nbconvert_exporter": "python",
   "pygments_lexer": "ipython3",
   "version": "3.5.2"
  }
 },
 "nbformat": 4,
 "nbformat_minor": 2
}
